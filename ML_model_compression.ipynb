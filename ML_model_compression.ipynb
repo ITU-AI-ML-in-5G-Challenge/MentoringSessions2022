{
 "cells": [
  {
   "cell_type": "markdown",
   "id": "7b77daeb",
   "metadata": {},
   "source": [
    "## Pruning and Quantization Practice"
   ]
  },
  {
   "cell_type": "markdown",
   "id": "49a13e63",
   "metadata": {},
   "source": [
    "[![Open In Colab](https://colab.research.google.com/assets/colab-badge.svg)](https://colab.research.google.com/github/ITU-AI-ML-in-5G-Challenge/MentoringSessions2022/blob/main/ML_model_compression.ipynb)"
   ]
  },
  {
   "cell_type": "markdown",
   "id": "7cf59179",
   "metadata": {},
   "source": [
    "### Import preliminary libraries"
   ]
  },
  {
   "cell_type": "code",
   "execution_count": 1,
   "id": "40484bfb",
   "metadata": {},
   "outputs": [],
   "source": [
    "import pandas as pd\n",
    "import sklearn\n",
    "import matplotlib.pyplot as plt\n",
    "import numpy as np\n",
    "from matplotlib import pyplot\n",
    "import time\n",
    "\n",
    "from sklearn.preprocessing import StandardScaler\n",
    "from tensorflow.keras.models import Sequential\n",
    "from tensorflow.keras.layers import Dense, Dropout\n",
    "from tensorflow.keras.callbacks import EarlyStopping"
   ]
  },
  {
   "cell_type": "markdown",
   "id": "2503954e",
   "metadata": {},
   "source": [
    "### Download Data"
   ]
  },
  {
   "cell_type": "code",
   "execution_count": 2,
   "id": "b2f0e60d",
   "metadata": {},
   "outputs": [],
   "source": [
    "dataset_path = './data/diff_dataset.csv'\n",
    "testset_path = './data/diff_testset.csv'"
   ]
  },
  {
   "cell_type": "code",
   "execution_count": 3,
   "id": "58e0a49d",
   "metadata": {},
   "outputs": [],
   "source": [
    "# read dataset\n",
    "dataset = pd.read_csv(dataset_path)\n",
    "testset = pd.read_csv(testset_path)"
   ]
  },
  {
   "cell_type": "code",
   "execution_count": 4,
   "id": "d98fe806",
   "metadata": {},
   "outputs": [],
   "source": [
    "# drop unnamed column\n",
    "dataset.drop(columns=['Unnamed: 0'], inplace=True)\n",
    "testset.drop(columns=['Unnamed: 0'], inplace=True)"
   ]
  },
  {
   "cell_type": "code",
   "execution_count": 5,
   "id": "ea171090",
   "metadata": {},
   "outputs": [
    {
     "name": "stdout",
     "output_type": "stream",
     "text": [
      "(3542, 996) (3542,)\n",
      "(1861, 996) (1861,)\n",
      "(1681, 996) (1681,)\n"
     ]
    }
   ],
   "source": [
    "column = dataset.columns\n",
    "\n",
    "X_train = dataset[column[:-1]]\n",
    "X_test = testset[column[:-1]]\n",
    "y_train = dataset[column[-1]]\n",
    "y_test = testset[column[-1]]\n",
    "\n",
    "X = pd.concat([X_train, X_test], axis=0, ignore_index=True, sort=False)\n",
    "Y = pd.concat([y_train, y_test], axis=0, ignore_index=True, sort=False)\n",
    "\n",
    "print(X.shape, Y.shape)\n",
    "print(X_train.shape, y_train.shape)\n",
    "print(X_test.shape, y_test.shape)"
   ]
  },
  {
   "cell_type": "code",
   "execution_count": 6,
   "id": "9080e2ec",
   "metadata": {},
   "outputs": [],
   "source": [
    "#X_train = X_train.to_numpy()\n",
    "#X_test = X_test.to_numpy()\n",
    "#y_test = y_test.to_numpy()\n",
    "#y_train = y_train.to_numpy()"
   ]
  },
  {
   "cell_type": "markdown",
   "id": "740d9104",
   "metadata": {},
   "source": [
    "### Model Building and Training"
   ]
  },
  {
   "cell_type": "code",
   "execution_count": 7,
   "id": "1ebea1a4",
   "metadata": {},
   "outputs": [],
   "source": [
    "ss = StandardScaler()\n",
    "std_X_train = ss.fit_transform(X_train)\n",
    "std_X_test = ss.transform(X_test)"
   ]
  },
  {
   "cell_type": "code",
   "execution_count": 8,
   "id": "df5cf7f7",
   "metadata": {},
   "outputs": [
    {
     "name": "stderr",
     "output_type": "stream",
     "text": [
      "2022-10-24 14:02:42.029246: I tensorflow/core/platform/cpu_feature_guard.cc:152] This TensorFlow binary is optimized with oneAPI Deep Neural Network Library (oneDNN) to use the following CPU instructions in performance-critical operations:  SSE3 SSE4.1 SSE4.2 AVX\n",
      "To enable them in other operations, rebuild TensorFlow with the appropriate compiler flags.\n",
      "2022-10-24 14:02:42.478327: I tensorflow/core/common_runtime/gpu/gpu_device.cc:1525] Created device /job:localhost/replica:0/task:0/device:GPU:0 with 30999 MB memory:  -> device: 0, name: Tesla V100S-PCIE-32GB, pci bus id: 0000:48:00.0, compute capability: 7.0\n"
     ]
    }
   ],
   "source": [
    "model = Sequential()\n",
    "\n",
    "model.add(Dense(498,activation='sigmoid'))\n",
    "model.add(Dense(249,activation='sigmoid'))\n",
    "model.add(Dense(125,activation='sigmoid'))\n",
    "model.add(Dense(62,activation='sigmoid'))\n",
    "model.add(Dense(31,activation='sigmoid'))\n",
    "model.add(Dense(15,activation='sigmoid'))\n",
    "\n",
    "model.add(Dense(1)) "
   ]
  },
  {
   "cell_type": "code",
   "execution_count": 9,
   "id": "43b778d1",
   "metadata": {},
   "outputs": [],
   "source": [
    "model.compile(optimizer='rmsprop',loss='mse')"
   ]
  },
  {
   "cell_type": "code",
   "execution_count": 10,
   "id": "0d2f1471",
   "metadata": {},
   "outputs": [],
   "source": [
    "early_stop = EarlyStopping(monitor='val_loss',mode='min',verbose=1,patience=50)"
   ]
  },
  {
   "cell_type": "code",
   "execution_count": 11,
   "id": "a4899dc0",
   "metadata": {},
   "outputs": [
    {
     "name": "stdout",
     "output_type": "stream",
     "text": [
      "Epoch 1/200\n",
      "59/59 [==============================] - 2s 7ms/step - loss: 20.9904 - val_loss: 26.8516\n",
      "Epoch 2/200\n",
      "59/59 [==============================] - 0s 6ms/step - loss: 12.4795 - val_loss: 20.0698\n",
      "Epoch 3/200\n",
      "59/59 [==============================] - 0s 5ms/step - loss: 8.6997 - val_loss: 15.9486\n",
      "Epoch 4/200\n",
      "59/59 [==============================] - 0s 5ms/step - loss: 6.4548 - val_loss: 12.8281\n",
      "Epoch 5/200\n",
      "59/59 [==============================] - 0s 5ms/step - loss: 5.1951 - val_loss: 11.0453\n",
      "Epoch 6/200\n",
      "59/59 [==============================] - 0s 5ms/step - loss: 4.8163 - val_loss: 10.3775\n",
      "Epoch 7/200\n",
      "59/59 [==============================] - 0s 5ms/step - loss: 4.7363 - val_loss: 10.1814\n",
      "Epoch 8/200\n",
      "59/59 [==============================] - 0s 5ms/step - loss: 4.6447 - val_loss: 9.9753\n",
      "Epoch 9/200\n",
      "59/59 [==============================] - 0s 5ms/step - loss: 4.5036 - val_loss: 9.6985\n",
      "Epoch 10/200\n",
      "59/59 [==============================] - 0s 7ms/step - loss: 4.2821 - val_loss: 9.1670\n",
      "Epoch 11/200\n",
      "59/59 [==============================] - 0s 7ms/step - loss: 4.0394 - val_loss: 8.7569\n",
      "Epoch 12/200\n",
      "59/59 [==============================] - 0s 7ms/step - loss: 3.8653 - val_loss: 8.7277\n",
      "Epoch 13/200\n",
      "59/59 [==============================] - 0s 6ms/step - loss: 3.8098 - val_loss: 9.2776\n",
      "Epoch 14/200\n",
      "59/59 [==============================] - 0s 7ms/step - loss: 3.8057 - val_loss: 8.2626\n",
      "Epoch 15/200\n",
      "59/59 [==============================] - 0s 6ms/step - loss: 3.6946 - val_loss: 8.4323\n",
      "Epoch 16/200\n",
      "59/59 [==============================] - 0s 7ms/step - loss: 3.6851 - val_loss: 8.0881\n",
      "Epoch 17/200\n",
      "59/59 [==============================] - 0s 7ms/step - loss: 3.6158 - val_loss: 8.0408\n",
      "Epoch 18/200\n",
      "59/59 [==============================] - 0s 7ms/step - loss: 3.5455 - val_loss: 7.9151\n",
      "Epoch 19/200\n",
      "59/59 [==============================] - 0s 7ms/step - loss: 3.4355 - val_loss: 7.6855\n",
      "Epoch 20/200\n",
      "59/59 [==============================] - 0s 7ms/step - loss: 3.3826 - val_loss: 7.7194\n",
      "Epoch 21/200\n",
      "59/59 [==============================] - 0s 7ms/step - loss: 3.3102 - val_loss: 7.6520\n",
      "Epoch 22/200\n",
      "59/59 [==============================] - 0s 7ms/step - loss: 3.2604 - val_loss: 7.6034\n",
      "Epoch 23/200\n",
      "59/59 [==============================] - 0s 7ms/step - loss: 3.2482 - val_loss: 7.3931\n",
      "Epoch 24/200\n",
      "59/59 [==============================] - 0s 7ms/step - loss: 3.2012 - val_loss: 7.3867\n",
      "Epoch 25/200\n",
      "59/59 [==============================] - 0s 7ms/step - loss: 3.1568 - val_loss: 7.4016\n",
      "Epoch 26/200\n",
      "59/59 [==============================] - 0s 7ms/step - loss: 3.1305 - val_loss: 7.4099\n",
      "Epoch 27/200\n",
      "59/59 [==============================] - 0s 7ms/step - loss: 3.0954 - val_loss: 7.2501\n",
      "Epoch 28/200\n",
      "59/59 [==============================] - 0s 7ms/step - loss: 3.0623 - val_loss: 7.0614\n",
      "Epoch 29/200\n",
      "59/59 [==============================] - 0s 7ms/step - loss: 3.0217 - val_loss: 7.3838\n",
      "Epoch 30/200\n",
      "59/59 [==============================] - 0s 7ms/step - loss: 2.8817 - val_loss: 6.6296\n",
      "Epoch 31/200\n",
      "59/59 [==============================] - 0s 7ms/step - loss: 2.7215 - val_loss: 6.4956\n",
      "Epoch 32/200\n",
      "59/59 [==============================] - 0s 6ms/step - loss: 2.6359 - val_loss: 6.2610\n",
      "Epoch 33/200\n",
      "59/59 [==============================] - 0s 7ms/step - loss: 2.5328 - val_loss: 6.1223\n",
      "Epoch 34/200\n",
      "59/59 [==============================] - 0s 6ms/step - loss: 2.4649 - val_loss: 5.9573\n",
      "Epoch 35/200\n",
      "59/59 [==============================] - 0s 7ms/step - loss: 2.3485 - val_loss: 7.7637\n",
      "Epoch 36/200\n",
      "59/59 [==============================] - 0s 7ms/step - loss: 2.2844 - val_loss: 6.2657\n",
      "Epoch 37/200\n",
      "59/59 [==============================] - 0s 7ms/step - loss: 2.2420 - val_loss: 5.9484\n",
      "Epoch 38/200\n",
      "59/59 [==============================] - 0s 7ms/step - loss: 2.1142 - val_loss: 5.5617\n",
      "Epoch 39/200\n",
      "59/59 [==============================] - 0s 7ms/step - loss: 2.0404 - val_loss: 6.8368\n",
      "Epoch 40/200\n",
      "59/59 [==============================] - 0s 7ms/step - loss: 1.9504 - val_loss: 5.1127\n",
      "Epoch 41/200\n",
      "59/59 [==============================] - 0s 7ms/step - loss: 1.8677 - val_loss: 5.4853\n",
      "Epoch 42/200\n",
      "59/59 [==============================] - 0s 7ms/step - loss: 1.7744 - val_loss: 7.1695\n",
      "Epoch 43/200\n",
      "59/59 [==============================] - 0s 7ms/step - loss: 1.6628 - val_loss: 5.2088\n",
      "Epoch 44/200\n",
      "59/59 [==============================] - 0s 7ms/step - loss: 1.5559 - val_loss: 5.1253\n",
      "Epoch 45/200\n",
      "59/59 [==============================] - 0s 7ms/step - loss: 1.4188 - val_loss: 4.5166\n",
      "Epoch 46/200\n",
      "59/59 [==============================] - 0s 7ms/step - loss: 1.2949 - val_loss: 4.9568\n",
      "Epoch 47/200\n",
      "59/59 [==============================] - 0s 7ms/step - loss: 1.1987 - val_loss: 4.4882\n",
      "Epoch 48/200\n",
      "59/59 [==============================] - 0s 7ms/step - loss: 1.0816 - val_loss: 4.6299\n",
      "Epoch 49/200\n",
      "59/59 [==============================] - 0s 7ms/step - loss: 1.0231 - val_loss: 5.3292\n",
      "Epoch 50/200\n",
      "59/59 [==============================] - 0s 7ms/step - loss: 0.9058 - val_loss: 4.2236\n",
      "Epoch 51/200\n",
      "59/59 [==============================] - 0s 7ms/step - loss: 0.8580 - val_loss: 4.6298\n",
      "Epoch 52/200\n",
      "59/59 [==============================] - 0s 6ms/step - loss: 0.8372 - val_loss: 4.0677\n",
      "Epoch 53/200\n",
      "59/59 [==============================] - 0s 7ms/step - loss: 0.7643 - val_loss: 4.6536\n",
      "Epoch 54/200\n",
      "59/59 [==============================] - 0s 7ms/step - loss: 0.6665 - val_loss: 4.1470\n",
      "Epoch 55/200\n",
      "59/59 [==============================] - 0s 7ms/step - loss: 0.6563 - val_loss: 4.2041\n",
      "Epoch 56/200\n",
      "59/59 [==============================] - 0s 7ms/step - loss: 0.6172 - val_loss: 4.1002\n",
      "Epoch 57/200\n",
      "59/59 [==============================] - 0s 6ms/step - loss: 0.5818 - val_loss: 4.1001\n",
      "Epoch 58/200\n",
      "59/59 [==============================] - 0s 7ms/step - loss: 0.5217 - val_loss: 3.9124\n",
      "Epoch 59/200\n",
      "59/59 [==============================] - 0s 7ms/step - loss: 0.4955 - val_loss: 4.0418\n",
      "Epoch 60/200\n",
      "59/59 [==============================] - 0s 7ms/step - loss: 0.4817 - val_loss: 5.1332\n",
      "Epoch 61/200\n",
      "59/59 [==============================] - 0s 7ms/step - loss: 0.3933 - val_loss: 4.0097\n",
      "Epoch 62/200\n",
      "59/59 [==============================] - 0s 6ms/step - loss: 0.4490 - val_loss: 4.5332\n",
      "Epoch 63/200\n",
      "59/59 [==============================] - 0s 7ms/step - loss: 0.3813 - val_loss: 5.3005\n",
      "Epoch 64/200\n",
      "59/59 [==============================] - 0s 7ms/step - loss: 0.3619 - val_loss: 4.2484\n",
      "Epoch 65/200\n",
      "59/59 [==============================] - 0s 7ms/step - loss: 0.3202 - val_loss: 4.5953\n",
      "Epoch 66/200\n",
      "59/59 [==============================] - 0s 7ms/step - loss: 0.3218 - val_loss: 5.4946\n",
      "Epoch 67/200\n",
      "59/59 [==============================] - 0s 7ms/step - loss: 0.3141 - val_loss: 5.1017\n",
      "Epoch 68/200\n",
      "59/59 [==============================] - 0s 7ms/step - loss: 0.2752 - val_loss: 4.7946\n",
      "Epoch 69/200\n",
      "59/59 [==============================] - 0s 7ms/step - loss: 0.2601 - val_loss: 4.5223\n",
      "Epoch 70/200\n",
      "59/59 [==============================] - 0s 7ms/step - loss: 0.2670 - val_loss: 4.0376\n",
      "Epoch 71/200\n",
      "59/59 [==============================] - 0s 7ms/step - loss: 0.2578 - val_loss: 3.9189\n",
      "Epoch 72/200\n",
      "59/59 [==============================] - 0s 7ms/step - loss: 0.2510 - val_loss: 4.2435\n",
      "Epoch 73/200\n",
      "59/59 [==============================] - 0s 7ms/step - loss: 0.2238 - val_loss: 5.6572\n",
      "Epoch 74/200\n",
      "59/59 [==============================] - 0s 7ms/step - loss: 0.2398 - val_loss: 5.6869\n",
      "Epoch 75/200\n",
      "59/59 [==============================] - 0s 7ms/step - loss: 0.2044 - val_loss: 5.0421\n",
      "Epoch 76/200\n",
      "59/59 [==============================] - 0s 7ms/step - loss: 0.2029 - val_loss: 4.6488\n",
      "Epoch 77/200\n",
      "59/59 [==============================] - 0s 7ms/step - loss: 0.1996 - val_loss: 4.3690\n",
      "Epoch 78/200\n",
      "59/59 [==============================] - 0s 7ms/step - loss: 0.1981 - val_loss: 4.2536\n",
      "Epoch 79/200\n",
      "59/59 [==============================] - 0s 7ms/step - loss: 0.1909 - val_loss: 5.7504\n",
      "Epoch 80/200\n",
      "59/59 [==============================] - 0s 7ms/step - loss: 0.1990 - val_loss: 4.4987\n",
      "Epoch 81/200\n",
      "59/59 [==============================] - 0s 7ms/step - loss: 0.1472 - val_loss: 4.1274\n",
      "Epoch 82/200\n",
      "59/59 [==============================] - 0s 7ms/step - loss: 0.1709 - val_loss: 4.3154\n",
      "Epoch 83/200\n",
      "59/59 [==============================] - 0s 7ms/step - loss: 0.1457 - val_loss: 4.2973\n",
      "Epoch 84/200\n",
      "59/59 [==============================] - 0s 7ms/step - loss: 0.1685 - val_loss: 4.4886\n",
      "Epoch 85/200\n",
      "59/59 [==============================] - 0s 7ms/step - loss: 0.1464 - val_loss: 4.8286\n",
      "Epoch 86/200\n",
      "59/59 [==============================] - 0s 7ms/step - loss: 0.1409 - val_loss: 4.3944\n",
      "Epoch 87/200\n",
      "59/59 [==============================] - 0s 7ms/step - loss: 0.1445 - val_loss: 4.2216\n",
      "Epoch 88/200\n",
      "59/59 [==============================] - 0s 6ms/step - loss: 0.1340 - val_loss: 3.9953\n",
      "Epoch 89/200\n",
      "59/59 [==============================] - 0s 7ms/step - loss: 0.1244 - val_loss: 4.0554\n",
      "Epoch 90/200\n",
      "59/59 [==============================] - 0s 6ms/step - loss: 0.1320 - val_loss: 4.5539\n",
      "Epoch 91/200\n",
      "59/59 [==============================] - 0s 7ms/step - loss: 0.1309 - val_loss: 4.9308\n",
      "Epoch 92/200\n",
      "59/59 [==============================] - 0s 7ms/step - loss: 0.1126 - val_loss: 4.1764\n",
      "Epoch 93/200\n",
      "59/59 [==============================] - 0s 7ms/step - loss: 0.1049 - val_loss: 5.0689\n",
      "Epoch 94/200\n",
      "59/59 [==============================] - 0s 7ms/step - loss: 0.1256 - val_loss: 4.0930\n",
      "Epoch 95/200\n",
      "59/59 [==============================] - 0s 7ms/step - loss: 0.1073 - val_loss: 3.9231\n",
      "Epoch 96/200\n",
      "59/59 [==============================] - 0s 7ms/step - loss: 0.1025 - val_loss: 4.8530\n",
      "Epoch 97/200\n",
      "59/59 [==============================] - 0s 6ms/step - loss: 0.0991 - val_loss: 4.2789\n",
      "Epoch 98/200\n",
      "59/59 [==============================] - 0s 7ms/step - loss: 0.1025 - val_loss: 4.7027\n",
      "Epoch 99/200\n",
      "59/59 [==============================] - 0s 7ms/step - loss: 0.0991 - val_loss: 3.9631\n",
      "Epoch 100/200\n",
      "59/59 [==============================] - 0s 7ms/step - loss: 0.0918 - val_loss: 4.1213\n",
      "Epoch 101/200\n",
      "59/59 [==============================] - 0s 7ms/step - loss: 0.0882 - val_loss: 4.4403\n",
      "Epoch 102/200\n",
      "59/59 [==============================] - 0s 7ms/step - loss: 0.0906 - val_loss: 4.6794\n",
      "Epoch 103/200\n",
      "59/59 [==============================] - 0s 7ms/step - loss: 0.0937 - val_loss: 4.2920\n",
      "Epoch 104/200\n",
      "59/59 [==============================] - 0s 7ms/step - loss: 0.0781 - val_loss: 4.3032\n",
      "Epoch 105/200\n",
      "59/59 [==============================] - 0s 7ms/step - loss: 0.0878 - val_loss: 4.2434\n",
      "Epoch 106/200\n",
      "59/59 [==============================] - 0s 7ms/step - loss: 0.0762 - val_loss: 4.6330\n",
      "Epoch 107/200\n",
      "59/59 [==============================] - 0s 7ms/step - loss: 0.0782 - val_loss: 4.3841\n",
      "Epoch 108/200\n",
      "59/59 [==============================] - 0s 7ms/step - loss: 0.0716 - val_loss: 4.0829\n",
      "Epoch 108: early stopping\n"
     ]
    },
    {
     "data": {
      "text/plain": [
       "<keras.callbacks.History at 0x7f9a0f805be0>"
      ]
     },
     "execution_count": 11,
     "metadata": {},
     "output_type": "execute_result"
    }
   ],
   "source": [
    "model.fit(x=std_X_train,y=y_train,epochs=200,validation_data=(std_X_test,y_test),callbacks=[early_stop]) "
   ]
  },
  {
   "cell_type": "code",
   "execution_count": 12,
   "id": "945f109f",
   "metadata": {},
   "outputs": [],
   "source": [
    "loss_df = pd.DataFrame(model.history.history)"
   ]
  },
  {
   "cell_type": "code",
   "execution_count": 13,
   "id": "da73e46d",
   "metadata": {},
   "outputs": [
    {
     "data": {
      "text/plain": [
       "<AxesSubplot:>"
      ]
     },
     "execution_count": 13,
     "metadata": {},
     "output_type": "execute_result"
    },
    {
     "data": {
      "image/png": "[encoded data removed]",
      "text/plain": [
       "<Figure size 432x288 with 1 Axes>"
      ]
     },
     "metadata": {
      "needs_background": "light"
     },
     "output_type": "display_data"
    }
   ],
   "source": [
    "loss_df.plot()"
   ]
  },
  {
   "cell_type": "code",
   "execution_count": 14,
   "id": "b06c588a",
   "metadata": {},
   "outputs": [
    {
     "name": "stdout",
     "output_type": "stream",
     "text": [
      "Prediction time: 0.1898343563079834\n"
     ]
    }
   ],
   "source": [
    "start = time.time()\n",
    "predictions = model.predict(std_X_test)\n",
    "end = time.time()\n",
    "print(f'Prediction time: {end-start}')"
   ]
  },
  {
   "cell_type": "code",
   "execution_count": 15,
   "id": "2451d761",
   "metadata": {},
   "outputs": [],
   "source": [
    "from sklearn.metrics import mean_squared_error, mean_absolute_error"
   ]
  },
  {
   "cell_type": "code",
   "execution_count": 43,
   "id": "91c6372f",
   "metadata": {},
   "outputs": [
    {
     "name": "stdout",
     "output_type": "stream",
     "text": [
      "RMSE: 2.2807117049256314\n",
      "MAE: 1.8380790292897584\n"
     ]
    }
   ],
   "source": [
    "baseline_rmse = np.sqrt(mean_squared_error(y_test, predictions))\n",
    "\n",
    "print(f'RMSE: {np.sqrt(mean_squared_error(y_test, predictions))}')\n",
    "print(f'MAE: {mean_absolute_error(y_test, predictions)}')"
   ]
  },
  {
   "cell_type": "code",
   "execution_count": 17,
   "id": "e0f75d9d",
   "metadata": {},
   "outputs": [
    {
     "name": "stdout",
     "output_type": "stream",
     "text": [
      "Model: \"sequential\"\n",
      "_________________________________________________________________\n",
      " Layer (type)                Output Shape              Param #   \n",
      "=================================================================\n",
      " dense (Dense)               (None, 498)               496506    \n",
      "                                                                 \n",
      " dense_1 (Dense)             (None, 249)               124251    \n",
      "                                                                 \n",
      " dense_2 (Dense)             (None, 125)               31250     \n",
      "                                                                 \n",
      " dense_3 (Dense)             (None, 62)                7812      \n",
      "                                                                 \n",
      " dense_4 (Dense)             (None, 31)                1953      \n",
      "                                                                 \n",
      " dense_5 (Dense)             (None, 15)                480       \n",
      "                                                                 \n",
      " dense_6 (Dense)             (None, 1)                 16        \n",
      "                                                                 \n",
      "=================================================================\n",
      "Total params: 662,268\n",
      "Trainable params: 662,268\n",
      "Non-trainable params: 0\n",
      "_________________________________________________________________\n"
     ]
    }
   ],
   "source": [
    "model.summary()"
   ]
  },
  {
   "cell_type": "code",
   "execution_count": 18,
   "id": "dff83bf2",
   "metadata": {},
   "outputs": [],
   "source": [
    "model.save('./saved_models/baseline_model.h5')"
   ]
  },
  {
   "cell_type": "code",
   "execution_count": 19,
   "id": "a596149c",
   "metadata": {},
   "outputs": [
    {
     "data": {
      "text/plain": [
       "5358424"
      ]
     },
     "execution_count": 19,
     "metadata": {},
     "output_type": "execute_result"
    }
   ],
   "source": [
    "import os\n",
    "os.path.getsize('./saved_models/baseline_model.h5')"
   ]
  },
  {
   "cell_type": "markdown",
   "id": "4a5b9486",
   "metadata": {},
   "source": [
    "## Model Pruning"
   ]
  },
  {
   "cell_type": "code",
   "execution_count": 20,
   "id": "d82bf882",
   "metadata": {},
   "outputs": [],
   "source": [
    "import tensorflow_model_optimization as tfmot"
   ]
  },
  {
   "cell_type": "code",
   "execution_count": 21,
   "id": "f0d4de90",
   "metadata": {},
   "outputs": [],
   "source": [
    "prune_low_magnitude = tfmot.sparsity.keras.prune_low_magnitude"
   ]
  },
  {
   "cell_type": "code",
   "execution_count": 22,
   "id": "b1603c0f",
   "metadata": {},
   "outputs": [],
   "source": [
    "epochs = 30\n",
    "batch_size = 32\n",
    "end_step = 200 "
   ]
  },
  {
   "cell_type": "code",
   "execution_count": 23,
   "id": "c5429db5",
   "metadata": {},
   "outputs": [],
   "source": [
    "pruning_params = {\n",
    "      'pruning_schedule': tfmot.sparsity.keras.PolynomialDecay(initial_sparsity=0.50, final_sparsity=0.80, begin_step=0, end_step=end_step)\n",
    "                }"
   ]
  },
  {
   "cell_type": "code",
   "execution_count": 24,
   "id": "07a4c215",
   "metadata": {},
   "outputs": [],
   "source": [
    "pruned_model = prune_low_magnitude(model,**pruning_params)"
   ]
  },
  {
   "cell_type": "code",
   "execution_count": 25,
   "id": "cfbbda53",
   "metadata": {},
   "outputs": [],
   "source": [
    "pruned_model.compile(optimizer='rmsprop',loss='mse')"
   ]
  },
  {
   "cell_type": "code",
   "execution_count": 26,
   "id": "14f97680",
   "metadata": {},
   "outputs": [
    {
     "name": "stdout",
     "output_type": "stream",
     "text": [
      "Model: \"sequential\"\n",
      "_________________________________________________________________\n",
      " Layer (type)                Output Shape              Param #   \n",
      "=================================================================\n",
      " prune_low_magnitude_dense (  (None, 498)              992516    \n",
      " PruneLowMagnitude)                                              \n",
      "                                                                 \n",
      " prune_low_magnitude_dense_1  (None, 249)              248255    \n",
      "  (PruneLowMagnitude)                                            \n",
      "                                                                 \n",
      " prune_low_magnitude_dense_2  (None, 125)              62377     \n",
      "  (PruneLowMagnitude)                                            \n",
      "                                                                 \n",
      " prune_low_magnitude_dense_3  (None, 62)               15564     \n",
      "  (PruneLowMagnitude)                                            \n",
      "                                                                 \n",
      " prune_low_magnitude_dense_4  (None, 31)               3877      \n",
      "  (PruneLowMagnitude)                                            \n",
      "                                                                 \n",
      " prune_low_magnitude_dense_5  (None, 15)               947       \n",
      "  (PruneLowMagnitude)                                            \n",
      "                                                                 \n",
      " prune_low_magnitude_dense_6  (None, 1)                33        \n",
      "  (PruneLowMagnitude)                                            \n",
      "                                                                 \n",
      "=================================================================\n",
      "Total params: 1,323,569\n",
      "Trainable params: 662,268\n",
      "Non-trainable params: 661,301\n",
      "_________________________________________________________________\n"
     ]
    }
   ],
   "source": [
    "pruned_model.summary()"
   ]
  },
  {
   "cell_type": "code",
   "execution_count": 27,
   "id": "ec7ecf6e",
   "metadata": {},
   "outputs": [],
   "source": [
    "import tempfile"
   ]
  },
  {
   "cell_type": "code",
   "execution_count": 28,
   "id": "aa967b17",
   "metadata": {},
   "outputs": [],
   "source": [
    "log_dir = tempfile.mkdtemp()\n",
    "callbacks = [\n",
    "    tfmot.sparsity.keras.UpdatePruningStep(),\n",
    "    tfmot.sparsity.keras.PruningSummaries(log_dir=log_dir)\n",
    "]"
   ]
  },
  {
   "cell_type": "code",
   "execution_count": 29,
   "id": "fcbcc572",
   "metadata": {},
   "outputs": [
    {
     "name": "stdout",
     "output_type": "stream",
     "text": [
      "Epoch 1/30\n",
      " 1/59 [..............................] - ETA: 2:24 - loss: 0.0975WARNING:tensorflow:Callback method `on_train_batch_end` is slow compared to the batch time (batch time: 0.0044s vs `on_train_batch_end` time: 0.0102s). Check your callbacks.\n",
      "59/59 [==============================] - 3s 10ms/step - loss: 0.0939 - val_loss: 4.2520\n",
      "Epoch 2/30\n",
      "59/59 [==============================] - 1s 12ms/step - loss: 5.9915 - val_loss: 30.0282\n",
      "Epoch 3/30\n",
      "59/59 [==============================] - 0s 8ms/step - loss: 13.5162 - val_loss: 19.2630\n",
      "Epoch 4/30\n",
      "59/59 [==============================] - 1s 9ms/step - loss: 10.4818 - val_loss: 20.6876\n",
      "Epoch 5/30\n",
      "59/59 [==============================] - 0s 8ms/step - loss: 9.8977 - val_loss: 18.3972\n",
      "Epoch 6/30\n",
      "59/59 [==============================] - 1s 9ms/step - loss: 8.4660 - val_loss: 16.5583\n",
      "Epoch 7/30\n",
      "59/59 [==============================] - 0s 8ms/step - loss: 7.3196 - val_loss: 15.0120\n",
      "Epoch 8/30\n",
      "59/59 [==============================] - 1s 9ms/step - loss: 6.3579 - val_loss: 13.6591\n",
      "Epoch 9/30\n",
      "59/59 [==============================] - 0s 8ms/step - loss: 5.5387 - val_loss: 12.5122\n",
      "Epoch 10/30\n",
      "59/59 [==============================] - 0s 8ms/step - loss: 4.8367 - val_loss: 11.4973\n",
      "Epoch 11/30\n",
      "59/59 [==============================] - 0s 8ms/step - loss: 4.2173 - val_loss: 10.6123\n",
      "Epoch 12/30\n",
      "59/59 [==============================] - 1s 8ms/step - loss: 3.6642 - val_loss: 9.8501\n",
      "Epoch 13/30\n",
      "59/59 [==============================] - 0s 8ms/step - loss: 3.1884 - val_loss: 9.3813\n",
      "Epoch 14/30\n",
      "59/59 [==============================] - 0s 8ms/step - loss: 2.7807 - val_loss: 8.6011\n",
      "Epoch 15/30\n",
      "59/59 [==============================] - 0s 8ms/step - loss: 2.4175 - val_loss: 8.6312\n",
      "Epoch 16/30\n",
      "59/59 [==============================] - 0s 8ms/step - loss: 2.1009 - val_loss: 8.0637\n",
      "Epoch 17/30\n",
      "59/59 [==============================] - 0s 8ms/step - loss: 1.8220 - val_loss: 7.1795\n",
      "Epoch 18/30\n",
      "59/59 [==============================] - 0s 8ms/step - loss: 1.5891 - val_loss: 7.0036\n",
      "Epoch 19/30\n",
      "59/59 [==============================] - 0s 8ms/step - loss: 1.3930 - val_loss: 6.7122\n",
      "Epoch 20/30\n",
      "59/59 [==============================] - 0s 8ms/step - loss: 1.2320 - val_loss: 6.7003\n",
      "Epoch 21/30\n",
      "59/59 [==============================] - 0s 8ms/step - loss: 1.0939 - val_loss: 6.5198\n",
      "Epoch 22/30\n",
      "59/59 [==============================] - 1s 9ms/step - loss: 0.9703 - val_loss: 6.1177\n",
      "Epoch 23/30\n",
      "59/59 [==============================] - 0s 8ms/step - loss: 0.8681 - val_loss: 6.2884\n",
      "Epoch 24/30\n",
      "59/59 [==============================] - 0s 8ms/step - loss: 0.7807 - val_loss: 6.1806\n",
      "Epoch 25/30\n",
      "59/59 [==============================] - 0s 8ms/step - loss: 0.7064 - val_loss: 5.6064\n",
      "Epoch 26/30\n",
      "59/59 [==============================] - 0s 8ms/step - loss: 0.6325 - val_loss: 5.5596\n",
      "Epoch 27/30\n",
      "59/59 [==============================] - 0s 8ms/step - loss: 0.5680 - val_loss: 5.4958\n",
      "Epoch 28/30\n",
      "59/59 [==============================] - 0s 8ms/step - loss: 0.5160 - val_loss: 5.0993\n",
      "Epoch 29/30\n",
      "59/59 [==============================] - 0s 8ms/step - loss: 0.4768 - val_loss: 5.5680\n",
      "Epoch 30/30\n",
      "59/59 [==============================] - 0s 8ms/step - loss: 0.4355 - val_loss: 5.2016\n"
     ]
    },
    {
     "data": {
      "text/plain": [
       "<keras.callbacks.History at 0x7f99ec24bdf0>"
      ]
     },
     "execution_count": 29,
     "metadata": {},
     "output_type": "execute_result"
    }
   ],
   "source": [
    "pruned_model.fit(x=std_X_train,y=y_train,epochs=epochs,validation_data=(std_X_test,y_test),callbacks=callbacks)"
   ]
  },
  {
   "cell_type": "code",
   "execution_count": 30,
   "id": "bafafd7f",
   "metadata": {},
   "outputs": [
    {
     "name": "stdout",
     "output_type": "stream",
     "text": [
      "Prediction time: 0.20441889762878418\n"
     ]
    }
   ],
   "source": [
    "start = time.time()\n",
    "predictions = pruned_model.predict(std_X_test)\n",
    "end = time.time()\n",
    "print(f'Prediction time: {end-start}')"
   ]
  },
  {
   "cell_type": "code",
   "execution_count": 31,
   "id": "a6214631",
   "metadata": {},
   "outputs": [
    {
     "name": "stdout",
     "output_type": "stream",
     "text": [
      "RMSE: 2.2807117049256314\n",
      "MAEE: 1.8380790292897584\n"
     ]
    }
   ],
   "source": [
    "print(f'RMSE: {np.sqrt(mean_squared_error(y_test, predictions))}')\n",
    "print(f'MAEE: {mean_absolute_error(y_test, predictions)}')\n",
    "pruned_rmse = np.sqrt(mean_squared_error(y_test, predictions))"
   ]
  },
  {
   "cell_type": "code",
   "execution_count": 32,
   "id": "2e2e8611",
   "metadata": {},
   "outputs": [
    {
     "name": "stdout",
     "output_type": "stream",
     "text": [
      "WARNING:tensorflow:Compiled the loaded model, but the compiled metrics have yet to be built. `model.compile_metrics` will be empty until you train or evaluate the model.\n"
     ]
    }
   ],
   "source": [
    "model_for_export = tfmot.sparsity.keras.strip_pruning(pruned_model) #Once the model has been pruned, this method is used to restore the original model with the new sparse weights.\n",
    "model_for_export.save('./saved_models/pruned_model.h5')"
   ]
  },
  {
   "cell_type": "code",
   "execution_count": 33,
   "id": "1b9c282a",
   "metadata": {},
   "outputs": [
    {
     "name": "stdout",
     "output_type": "stream",
     "text": [
      "Model: \"sequential\"\n",
      "_________________________________________________________________\n",
      " Layer (type)                Output Shape              Param #   \n",
      "=================================================================\n",
      " dense (Dense)               (None, 498)               496506    \n",
      "                                                                 \n",
      " dense_1 (Dense)             (None, 249)               124251    \n",
      "                                                                 \n",
      " dense_2 (Dense)             (None, 125)               31250     \n",
      "                                                                 \n",
      " dense_3 (Dense)             (None, 62)                7812      \n",
      "                                                                 \n",
      " dense_4 (Dense)             (None, 31)                1953      \n",
      "                                                                 \n",
      " dense_5 (Dense)             (None, 15)                480       \n",
      "                                                                 \n",
      " dense_6 (Dense)             (None, 1)                 16        \n",
      "                                                                 \n",
      "=================================================================\n",
      "Total params: 662,268\n",
      "Trainable params: 662,268\n",
      "Non-trainable params: 0\n",
      "_________________________________________________________________\n"
     ]
    }
   ],
   "source": [
    "model_for_export.summary()"
   ]
  },
  {
   "cell_type": "code",
   "execution_count": 36,
   "id": "78328335",
   "metadata": {},
   "outputs": [
    {
     "name": "stdout",
     "output_type": "stream",
     "text": [
      "Pruned/Striped Prediction time: 10.396554708480835\n",
      "Baseline Prediction time: 11.02107572555542\n"
     ]
    }
   ],
   "source": [
    "start = time.time()\n",
    "for _ in range(100):\n",
    "    predictions = model_for_export.predict(std_X_test, verbose=0)\n",
    "end = time.time()\n",
    "pruned_pred_time = end-start\n",
    "print(f'Pruned/Striped Prediction time: {end-start}')\n",
    "\n",
    "start = time.time()\n",
    "for _ in range(100):\n",
    "    predictions = model.predict(std_X_test, verbose=0)\n",
    "end = time.time()\n",
    "baseline_pred_time = end-start\n",
    "print(f'Baseline Prediction time: {end-start}')"
   ]
  },
  {
   "cell_type": "code",
   "execution_count": 39,
   "id": "a41c141b",
   "metadata": {},
   "outputs": [
    {
     "name": "stdout",
     "output_type": "stream",
     "text": [
      "2676612\n",
      "5358424\n"
     ]
    }
   ],
   "source": [
    "import os\n",
    "pruned_model_size = os.path.getsize('./saved_models/pruned_model.h5')\n",
    "baseline_model_size = os.path.getsize('./saved_models/baseline_model.h5')\n",
    "print(pruned_model_size)\n",
    "print(baseline_model_size)"
   ]
  },
  {
   "cell_type": "markdown",
   "id": "c81d28fc",
   "metadata": {},
   "source": [
    "#### Pruned Model vs Baseline Model"
   ]
  },
  {
   "cell_type": "code",
   "execution_count": 56,
   "id": "60d96a46",
   "metadata": {},
   "outputs": [
    {
     "name": "stdout",
     "output_type": "stream",
     "text": [
      "Baseline Model Size: 5.110191345214844\n",
      "Pruned Model Size: 2.5526161193847656\n",
      "\n",
      "\n",
      "Baseline Model Prediction Time: 11.02415919303894\n",
      "Pruned Model Prediction Time: 10.520077466964722\n",
      "\n",
      "\n",
      "Baseline Model RMSE: 2.0529216348001165\n",
      "Pruned Model RMSE: 2.2786970059114444\n"
     ]
    }
   ],
   "source": [
    "print(f'Baseline Model Size: {baseline_model_size}')\n",
    "print(f'Pruned Model Size: {pruned_model_size}') #percentage in comparison to baseline \n",
    "print('\\n')\n",
    "print(f'Baseline Model Prediction Time: {baseline_pred_time}')\n",
    "print(f'Pruned Model Prediction Time: {pruned_pred_time}')\n",
    "print('\\n')\n",
    "print(f'Baseline Model RMSE: {baseline_rmse}')\n",
    "print(f'Pruned Model RMSE: {pruned_rmse}')"
   ]
  },
  {
   "cell_type": "markdown",
   "id": "56ad1846",
   "metadata": {},
   "source": [
    "## Post Training Quantization"
   ]
  },
  {
   "cell_type": "code",
   "execution_count": 40,
   "id": "2d59bc4a",
   "metadata": {},
   "outputs": [],
   "source": [
    "import tensorflow as tf"
   ]
  },
  {
   "cell_type": "code",
   "execution_count": 41,
   "id": "ff64b0cc",
   "metadata": {},
   "outputs": [
    {
     "name": "stderr",
     "output_type": "stream",
     "text": [
      "2022-10-24 13:50:53.256787: W tensorflow/python/util/util.cc:368] Sets are not currently considered sequences, but this may change in the future, so consider avoiding using them.\n"
     ]
    },
    {
     "name": "stdout",
     "output_type": "stream",
     "text": [
      "INFO:tensorflow:Assets written to: /tmp/tmpodgzlz9f/assets\n"
     ]
    },
    {
     "name": "stderr",
     "output_type": "stream",
     "text": [
      "2022-10-24 13:50:54.093001: W tensorflow/compiler/mlir/lite/python/tf_tfl_flatbuffer_helpers.cc:357] Ignored output_format.\n",
      "2022-10-24 13:50:54.093041: W tensorflow/compiler/mlir/lite/python/tf_tfl_flatbuffer_helpers.cc:360] Ignored drop_control_dependency.\n",
      "2022-10-24 13:50:54.093888: I tensorflow/cc/saved_model/reader.cc:43] Reading SavedModel from: /tmp/tmpodgzlz9f\n",
      "2022-10-24 13:50:54.095807: I tensorflow/cc/saved_model/reader.cc:78] Reading meta graph with tags { serve }\n",
      "2022-10-24 13:50:54.095830: I tensorflow/cc/saved_model/reader.cc:119] Reading SavedModel debug info (if present) from: /tmp/tmpodgzlz9f\n",
      "2022-10-24 13:50:54.102411: I tensorflow/cc/saved_model/loader.cc:230] Restoring SavedModel bundle.\n",
      "2022-10-24 13:50:54.130988: I tensorflow/cc/saved_model/loader.cc:214] Running initialization op on SavedModel bundle at path: /tmp/tmpodgzlz9f\n",
      "2022-10-24 13:50:54.145660: I tensorflow/cc/saved_model/loader.cc:321] SavedModel load for tags { serve }; Status: success: OK. Took 51776 microseconds.\n",
      "2022-10-24 13:50:54.162574: I tensorflow/compiler/mlir/tensorflow/utils/dump_mlir_util.cc:237] disabling MLIR crash reproducer, set env var `MLIR_CRASH_REPRODUCER_DIRECTORY` to enable.\n",
      "2022-10-24 13:50:54.213749: I tensorflow/lite/tools/optimize/quantize_weights.cc:225] Skipping quantization of tensor sequential/dense_5/MatMul because it has fewer than 1024 elements (465).\n",
      "2022-10-24 13:50:54.213786: I tensorflow/lite/tools/optimize/quantize_weights.cc:225] Skipping quantization of tensor sequential/dense_6/MatMul because it has fewer than 1024 elements (15).\n"
     ]
    }
   ],
   "source": [
    "converter = tf.lite.TFLiteConverter.from_keras_model(model_for_export)\n",
    "converter.optimizations = [tf.lite.Optimize.DEFAULT]\n",
    "quantized_and_pruned_tflite_model = converter.convert()\n",
    "\n",
    "with open('./saved_models/pruned_quantized_model.tflite', 'wb') as f:\n",
    "  f.write(quantized_and_pruned_tflite_model)"
   ]
  },
  {
   "cell_type": "code",
   "execution_count": 42,
   "id": "41c951c5",
   "metadata": {},
   "outputs": [],
   "source": [
    "pruned_quantized_model_size = os.path.getsize('./saved_models/pruned_quantized_model.tflite')"
   ]
  },
  {
   "cell_type": "code",
   "execution_count": 1,
   "id": "2f0177da",
   "metadata": {},
   "outputs": [
    {
     "name": "stdout",
     "output_type": "stream",
     "text": [
      "\n",
      "\n"
     ]
    }
   ],
   "source": [
    "print(f'Baseline Model Size: {baseline_model_size}')\n",
    "print(f'Pruned Model Size: {pruned_model_size}')\n",
    "print(f'Pruned & Quantized Model Size: {pruned_quantized_model_size}')"
   ]
  },
  {
   "cell_type": "code",
   "execution_count": 41,
   "id": "fd416f96",
   "metadata": {},
   "outputs": [],
   "source": [
    "# Load TFLite model and allocate tensors.\n",
    "# How to predict with tfLite mode [Unzipping]\n",
    "interpreter = tf.lite.Interpreter(model_content=quantized_and_pruned_tflite_model)\n",
    "interpreter.allocate_tensors()# Get input and output tensors.\n",
    "input_details = interpreter.get_input_details()\n",
    "output_details = interpreter.get_output_details()\n",
    "input_shape = input_details[0]['shape']\n",
    "predictions = []\n",
    "for i in range(len(std_X_test)):\n",
    "    input_data = std_X_test[i]\n",
    "    input_data = np.expand_dims(input_data, axis=0).astype(np.float32)\n",
    "\n",
    "    interpreter.set_tensor(input_details[0]['index'], input_data)\n",
    "    interpreter.invoke()\n",
    "    output_data = interpreter.get_tensor(output_details[0]['index'])\n",
    "    predictions.append(output_data)"
   ]
  },
  {
   "cell_type": "code",
   "execution_count": 49,
   "id": "45dfed6e",
   "metadata": {},
   "outputs": [
    {
     "name": "stdout",
     "output_type": "stream",
     "text": [
      "RMSE: 2.2861918048050667\n",
      "MAEE: 1.8262067446745556\n"
     ]
    }
   ],
   "source": [
    "predictions = np.array(predictions).reshape(-1, 1)\n",
    "pruned_quantized_rmse = np.sqrt(mean_squared_error(y_test, predictions))\n",
    "print(f'RMSE: {np.sqrt(mean_squared_error(y_test, predictions))}')\n",
    "print(f'MAEE: {mean_absolute_error(y_test, predictions)}')"
   ]
  },
  {
   "cell_type": "code",
   "execution_count": 50,
   "id": "5bf649f5",
   "metadata": {},
   "outputs": [
    {
     "name": "stdout",
     "output_type": "stream",
     "text": [
      "Baseline Model RMSE: 2.0529216348001165\n",
      "Pruned Model RMSE: 2.2786970059114444\n",
      "Pruned & Quantized Model RMSE: 2.2861918048050667\n"
     ]
    }
   ],
   "source": [
    "print(f'Baseline Model RMSE: {baseline_rmse}')\n",
    "print(f'Pruned Model RMSE: {pruned_rmse}')\n",
    "print(f'Pruned & Quantized Model RMSE: {pruned_quantized_rmse}')"
   ]
  },
  {
   "cell_type": "markdown",
   "id": "7f82f753",
   "metadata": {},
   "source": [
    "#### Quantized & Pruned Model vs Pruned Model vs Baseline Model"
   ]
  },
  {
   "cell_type": "code",
   "execution_count": null,
   "id": "1be85871",
   "metadata": {},
   "outputs": [],
   "source": [
    "print(f'Baseline Model Size: {baseline_model_size} ')\n",
    "print(f'Pruned Model Size: {pruned_model_size} ')\n",
    "print(f'Quantized & Pruned Model Size: {pruned_quantized_model_size} ')\n",
    "\n",
    "print(f'Baseline Model Prediction Time: {baseline_pred_time}')\n",
    "print(f'Pruned Model Prediction Time: {pruned_pred_time}')\n",
    "\n",
    "print(f'Baseline Model RMSE: {baseline_rmse}')\n",
    "print(f'Pruned Model RMSE: {pruned_rmse}')"
   ]
  }
 ],
 "metadata": {
  "kernelspec": {
   "display_name": "Python 3 (ipykernel)",
   "language": "python",
   "name": "python3"
  },
  "language_info": {
   "codemirror_mode": {
    "name": "ipython",
    "version": 3
   },
   "file_extension": ".py",
   "mimetype": "text/x-python",
   "name": "python",
   "nbconvert_exporter": "python",
   "pygments_lexer": "ipython3",
   "version": "3.8.10"
  }
 },
 "nbformat": 4,
 "nbformat_minor": 5
}
