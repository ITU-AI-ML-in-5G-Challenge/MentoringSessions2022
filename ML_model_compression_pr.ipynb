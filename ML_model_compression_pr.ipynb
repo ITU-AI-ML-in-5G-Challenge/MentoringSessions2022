{
 "cells": [
  {
   "cell_type": "markdown",
   "id": "cf7f06df",
   "metadata": {},
   "source": [
    "## Pruning and Quantization Practice"
   ]
  },
  {
   "cell_type": "markdown",
   "id": "048426d8",
   "metadata": {},
   "source": [
    "[![Open In Colab](https://colab.research.google.com/assets/colab-badge.svg)](https://colab.research.google.com/github/ITU-AI-ML-in-5G-Challenge/MentoringSessions2022/blob/main/ML_model_compression_pr.ipynb)"
   ]
  },
  {
   "cell_type": "markdown",
   "id": "30799040",
   "metadata": {},
   "source": [
    "### Import preliminary libraries"
   ]
  },
  {
   "cell_type": "code",
   "execution_count": 1,
   "id": "c1a7768d",
   "metadata": {},
   "outputs": [],
   "source": [
    "import pandas as pd\n",
    "import sklearn\n",
    "import matplotlib.pyplot as plt\n",
    "import numpy as np\n",
    "from matplotlib import pyplot\n",
    "import time\n",
    "\n",
    "from sklearn.preprocessing import StandardScaler\n",
    "from tensorflow.keras.models import Sequential\n",
    "from tensorflow.keras.layers import Dense, Dropout\n",
    "from tensorflow.keras.callbacks import EarlyStopping"
   ]
  },
  {
   "cell_type": "markdown",
   "id": "a46da359",
   "metadata": {},
   "source": [
    "### Download Data"
   ]
  },
  {
   "cell_type": "code",
   "execution_count": 2,
   "id": "5ebeedd6",
   "metadata": {},
   "outputs": [],
   "source": [
    "dataset_path = './data/diff_dataset.csv'\n",
    "testset_path = './data/diff_testset.csv'"
   ]
  },
  {
   "cell_type": "code",
   "execution_count": 3,
   "id": "8b6290ab",
   "metadata": {},
   "outputs": [],
   "source": [
    "# read dataset\n",
    "dataset = pd.read_csv(dataset_path)\n",
    "testset = pd.read_csv(testset_path)"
   ]
  },
  {
   "cell_type": "code",
   "execution_count": 4,
   "id": "1ff5ebd2",
   "metadata": {},
   "outputs": [],
   "source": [
    "# drop unnamed column\n",
    "dataset.drop(columns=['Unnamed: 0'], inplace=True)\n",
    "testset.drop(columns=['Unnamed: 0'], inplace=True)"
   ]
  },
  {
   "cell_type": "code",
   "execution_count": 5,
   "id": "9f6e29b8",
   "metadata": {},
   "outputs": [
    {
     "name": "stdout",
     "output_type": "stream",
     "text": [
      "(3542, 996) (3542,)\n",
      "(1861, 996) (1861,)\n",
      "(1681, 996) (1681,)\n"
     ]
    }
   ],
   "source": [
    "column = dataset.columns\n",
    "\n",
    "X_train = dataset[column[:-1]]\n",
    "X_test = testset[column[:-1]]\n",
    "y_train = dataset[column[-1]]\n",
    "y_test = testset[column[-1]]\n",
    "\n",
    "X = pd.concat([X_train, X_test], axis=0, ignore_index=True, sort=False)\n",
    "Y = pd.concat([y_train, y_test], axis=0, ignore_index=True, sort=False)\n",
    "\n",
    "print(X.shape, Y.shape)\n",
    "print(X_train.shape, y_train.shape)\n",
    "print(X_test.shape, y_test.shape)"
   ]
  },
  {
   "cell_type": "markdown",
   "id": "e1fc367c",
   "metadata": {},
   "source": []
  }
 ],
 "metadata": {
  "kernelspec": {
   "display_name": "Python 3 (ipykernel)",
   "language": "python",
   "name": "python3"
  },
  "language_info": {
   "codemirror_mode": {
    "name": "ipython",
    "version": 3
   },
   "file_extension": ".py",
   "mimetype": "text/x-python",
   "name": "python",
   "nbconvert_exporter": "python",
   "pygments_lexer": "ipython3",
   "version": "3.8.10"
  }
 },
 "nbformat": 4,
 "nbformat_minor": 5
}
